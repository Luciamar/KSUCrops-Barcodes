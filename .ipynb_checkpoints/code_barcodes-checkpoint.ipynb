{
 "cells": [
  {
   "cell_type": "markdown",
   "metadata": {},
   "source": [
    "# KSUCrops-Barcodes\n",
    "**Author:** Luiz Moro Rosso  \n",
    "**Date:** June 19, 2019\n",
    "\n",
    "<br>\n",
    "\n",
    "Hello user! I created this python code to save time while preparing barcode labels.  \n",
    "You might be able to create labels for soil and biomass samples, plant tissue, stakes, etc.\n",
    "\n",
    "<br>\n",
    "\n",
    "# **Biomass sampling**"
   ]
  },
  {
   "cell_type": "markdown",
   "metadata": {},
   "source": [
    "- **Importing the modules**"
   ]
  },
  {
   "cell_type": "code",
   "execution_count": 1,
   "metadata": {},
   "outputs": [],
   "source": [
    "import pandas as pd\n",
    "from reportlab.pdfgen import canvas\n",
    "from reportlab.lib.units import inch\n",
    "from reportlab.graphics.barcode import code128"
   ]
  },
  {
   "cell_type": "markdown",
   "metadata": {},
   "source": [
    "## **Biomass sampling**"
   ]
  },
  {
   "cell_type": "markdown",
   "metadata": {},
   "source": [
    "a) **Importing the .csv file**"
   ]
  },
  {
   "cell_type": "code",
   "execution_count": 3,
   "metadata": {},
   "outputs": [],
   "source": [
    "database = pd.read_csv('/home/luiz/repositories/ASHMR AzCr lb_biomass.csv')"
   ]
  },
  {
   "cell_type": "markdown",
   "metadata": {},
   "source": [
    "b) **Printing the** `lb_biomass.pdf`"
   ]
  },
  {
   "cell_type": "code",
   "execution_count": 23,
   "metadata": {},
   "outputs": [],
   "source": [
    "## Setting up the label size\n",
    "page_width = 3 ; page_height = 2\n",
    "page = canvas.Canvas(\"lb_biomass.pdf\")\n",
    "page.setPageSize(size=(page_width*inch,\n",
    "                       page_height*inch))\n",
    "\n",
    "\n",
    "for i in range(0,len(database)):\n",
    "    \n",
    "    \n",
    "    page.rect(0.05*inch, 0.05*inch, 2.9*inch, 1.9*inch, stroke=1, fill=0)\n",
    "    \n",
    "    \n",
    "    page.setFont('Helvetica-Bold', 14)\n",
    "    page.drawCentredString(1.5*inch, 1.6*inch,\n",
    "                           database.loc[i,'label_info1'])\n",
    "    \n",
    "    page.setFont('Helvetica-Bold', 12)\n",
    "    page.drawCentredString(1.5*inch, 1.2*inch,\n",
    "                           database.loc[i,'label_info2'])\n",
    "    \n",
    "    page.setFont('Helvetica', 10)\n",
    "    page.drawCentredString(1.5*inch, 0.95*inch,\n",
    "                           database.loc[i,'label_info3'])\n",
    "    \n",
    "    \n",
    "    b_code128 = code128.Code128(database.loc[i,'label_info1'],\n",
    "                                barHeight = 0.4*inch, barWidth = 0.7)\n",
    "    \n",
    "    b_code128.drawOn(page, -0.05*inch, 0.3*inch)\n",
    "    \n",
    "    \n",
    "    if pd.isnull(database.loc[i,'label_ucode']) == False:\n",
    "        \n",
    "        page.setFont('Helvetica-Bold', 8)\n",
    "        page.drawCentredString(1.5*inch, 0.15*inch,\n",
    "                               database.loc[i,'label_ucode'])\n",
    "    \n",
    "    page.showPage()\n",
    "\n",
    "page.save()"
   ]
  }
 ],
 "metadata": {
  "kernelspec": {
   "display_name": "Python 3",
   "language": "python",
   "name": "python3"
  },
  "language_info": {
   "codemirror_mode": {
    "name": "ipython",
    "version": 3
   },
   "file_extension": ".py",
   "mimetype": "text/x-python",
   "name": "python",
   "nbconvert_exporter": "python",
   "pygments_lexer": "ipython3",
   "version": "3.7.3"
  }
 },
 "nbformat": 4,
 "nbformat_minor": 2
}
